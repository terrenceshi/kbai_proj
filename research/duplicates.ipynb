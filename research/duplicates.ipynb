{
 "cells": [
  {
   "cell_type": "code",
   "execution_count": 12,
   "id": "7e63660f",
   "metadata": {},
   "outputs": [],
   "source": [
    "import pandas as pd\n",
    "import requests\n",
    "import json"
   ]
  },
  {
   "cell_type": "code",
   "execution_count": 13,
   "id": "6b03f322",
   "metadata": {},
   "outputs": [
    {
     "data": {
      "text/html": [
       "<div>\n",
       "<style scoped>\n",
       "    .dataframe tbody tr th:only-of-type {\n",
       "        vertical-align: middle;\n",
       "    }\n",
       "\n",
       "    .dataframe tbody tr th {\n",
       "        vertical-align: top;\n",
       "    }\n",
       "\n",
       "    .dataframe thead th {\n",
       "        text-align: right;\n",
       "    }\n",
       "</style>\n",
       "<table border=\"1\" class=\"dataframe\">\n",
       "  <thead>\n",
       "    <tr style=\"text-align: right;\">\n",
       "      <th></th>\n",
       "      <th>title</th>\n",
       "      <th>time</th>\n",
       "      <th>time_label</th>\n",
       "      <th>rating</th>\n",
       "      <th>rating_label</th>\n",
       "      <th>year</th>\n",
       "      <th>year_label</th>\n",
       "      <th>popularity</th>\n",
       "      <th>genre</th>\n",
       "      <th>genres</th>\n",
       "      <th>plot</th>\n",
       "      <th>tags</th>\n",
       "      <th>nouns</th>\n",
       "      <th>id</th>\n",
       "      <th>poster_url</th>\n",
       "    </tr>\n",
       "  </thead>\n",
       "  <tbody>\n",
       "    <tr>\n",
       "      <th>0</th>\n",
       "      <td>Top Gun: Maverick</td>\n",
       "      <td>131</td>\n",
       "      <td>mid</td>\n",
       "      <td>8.6</td>\n",
       "      <td>high</td>\n",
       "      <td>2022</td>\n",
       "      <td>new</td>\n",
       "      <td>152.108</td>\n",
       "      <td>Action</td>\n",
       "      <td>['Action', 'Drama']</td>\n",
       "      <td>After more than thirty years of service as one...</td>\n",
       "      <td>['fighter jet', 'sequel', 'u.s. navy', 'fighte...</td>\n",
       "      <td>['years', 'service', 'aviators', 'envelope', '...</td>\n",
       "      <td>361743</td>\n",
       "      <td>https://image.tmdb.org/t/p/original/62HCnUTziy...</td>\n",
       "    </tr>\n",
       "    <tr>\n",
       "      <th>1</th>\n",
       "      <td>Jurassic World Dominion</td>\n",
       "      <td>147</td>\n",
       "      <td>long</td>\n",
       "      <td>6.0</td>\n",
       "      <td>mid</td>\n",
       "      <td>2022</td>\n",
       "      <td>new</td>\n",
       "      <td>159.870</td>\n",
       "      <td>Action</td>\n",
       "      <td>['Action', 'Adventure', 'Sci-Fi']</td>\n",
       "      <td>Four years after the destruction of Isla Nubla...</td>\n",
       "      <td>['dinosaur', 'jurassic park', 'tyrannosaurus r...</td>\n",
       "      <td>['years', 'destruction', 'dinosaurs', 'hunt', ...</td>\n",
       "      <td>507086</td>\n",
       "      <td>https://image.tmdb.org/t/p/original/kAVRgw7GgK...</td>\n",
       "    </tr>\n",
       "    <tr>\n",
       "      <th>2</th>\n",
       "      <td>Top Gun</td>\n",
       "      <td>110</td>\n",
       "      <td>mid</td>\n",
       "      <td>6.9</td>\n",
       "      <td>mid</td>\n",
       "      <td>1986</td>\n",
       "      <td>old</td>\n",
       "      <td>64.946</td>\n",
       "      <td>Action</td>\n",
       "      <td>['Action', 'Drama']</td>\n",
       "      <td>As students at the United States Navy's elite ...</td>\n",
       "      <td>['pilot', 'male camaraderie', 'u.s. navy', 'gr...</td>\n",
       "      <td>['students', 'fighter', 'weapons', 'school', '...</td>\n",
       "      <td>744</td>\n",
       "      <td>https://image.tmdb.org/t/p/original/xUuHj3CgmZ...</td>\n",
       "    </tr>\n",
       "    <tr>\n",
       "      <th>3</th>\n",
       "      <td>Lightyear</td>\n",
       "      <td>105</td>\n",
       "      <td>mid</td>\n",
       "      <td>5.2</td>\n",
       "      <td>mid</td>\n",
       "      <td>2022</td>\n",
       "      <td>new</td>\n",
       "      <td>59.065</td>\n",
       "      <td>Animation</td>\n",
       "      <td>['Animation', 'Action', 'Adventure']</td>\n",
       "      <td>While spending years attempting to return home...</td>\n",
       "      <td>['galaxy', 'spaceship', 'robot', 'rocket', 'sp...</td>\n",
       "      <td>['years', 'army', 'robots', 'fuel', 'source']</td>\n",
       "      <td>718789</td>\n",
       "      <td>https://image.tmdb.org/t/p/original/b9t3w1lora...</td>\n",
       "    </tr>\n",
       "    <tr>\n",
       "      <th>4</th>\n",
       "      <td>Spiderhead</td>\n",
       "      <td>106</td>\n",
       "      <td>mid</td>\n",
       "      <td>5.4</td>\n",
       "      <td>mid</td>\n",
       "      <td>2022</td>\n",
       "      <td>new</td>\n",
       "      <td>27.121</td>\n",
       "      <td>Action</td>\n",
       "      <td>['Action', 'Crime', 'Drama']</td>\n",
       "      <td>In the near future, convicts are offered the c...</td>\n",
       "      <td>['discover', 'medical', 'test', 'reality', 'fi...</td>\n",
       "      <td>['future', 'convicts', 'chance', 'subjects', '...</td>\n",
       "      <td>615469</td>\n",
       "      <td>https://image.tmdb.org/t/p/original/5hTK0J9SGP...</td>\n",
       "    </tr>\n",
       "  </tbody>\n",
       "</table>\n",
       "</div>"
      ],
      "text/plain": [
       "                     title  time time_label  rating rating_label  year  \\\n",
       "0        Top Gun: Maverick   131        mid     8.6         high  2022   \n",
       "1  Jurassic World Dominion   147       long     6.0          mid  2022   \n",
       "2                  Top Gun   110        mid     6.9          mid  1986   \n",
       "3                Lightyear   105        mid     5.2          mid  2022   \n",
       "4               Spiderhead   106        mid     5.4          mid  2022   \n",
       "\n",
       "  year_label  popularity      genre                                genres  \\\n",
       "0        new     152.108     Action                   ['Action', 'Drama']   \n",
       "1        new     159.870     Action     ['Action', 'Adventure', 'Sci-Fi']   \n",
       "2        old      64.946     Action                   ['Action', 'Drama']   \n",
       "3        new      59.065  Animation  ['Animation', 'Action', 'Adventure']   \n",
       "4        new      27.121     Action          ['Action', 'Crime', 'Drama']   \n",
       "\n",
       "                                                plot  \\\n",
       "0  After more than thirty years of service as one...   \n",
       "1  Four years after the destruction of Isla Nubla...   \n",
       "2  As students at the United States Navy's elite ...   \n",
       "3  While spending years attempting to return home...   \n",
       "4  In the near future, convicts are offered the c...   \n",
       "\n",
       "                                                tags  \\\n",
       "0  ['fighter jet', 'sequel', 'u.s. navy', 'fighte...   \n",
       "1  ['dinosaur', 'jurassic park', 'tyrannosaurus r...   \n",
       "2  ['pilot', 'male camaraderie', 'u.s. navy', 'gr...   \n",
       "3  ['galaxy', 'spaceship', 'robot', 'rocket', 'sp...   \n",
       "4  ['discover', 'medical', 'test', 'reality', 'fi...   \n",
       "\n",
       "                                               nouns      id  \\\n",
       "0  ['years', 'service', 'aviators', 'envelope', '...  361743   \n",
       "1  ['years', 'destruction', 'dinosaurs', 'hunt', ...  507086   \n",
       "2  ['students', 'fighter', 'weapons', 'school', '...     744   \n",
       "3      ['years', 'army', 'robots', 'fuel', 'source']  718789   \n",
       "4  ['future', 'convicts', 'chance', 'subjects', '...  615469   \n",
       "\n",
       "                                          poster_url  \n",
       "0  https://image.tmdb.org/t/p/original/62HCnUTziy...  \n",
       "1  https://image.tmdb.org/t/p/original/kAVRgw7GgK...  \n",
       "2  https://image.tmdb.org/t/p/original/xUuHj3CgmZ...  \n",
       "3  https://image.tmdb.org/t/p/original/b9t3w1lora...  \n",
       "4  https://image.tmdb.org/t/p/original/5hTK0J9SGP...  "
      ]
     },
     "execution_count": 13,
     "metadata": {},
     "output_type": "execute_result"
    }
   ],
   "source": [
    "df = pd.read_csv('../data/movie_data6.csv')\n",
    "df.head()"
   ]
  },
  {
   "cell_type": "code",
   "execution_count": 14,
   "id": "d15efcb4",
   "metadata": {},
   "outputs": [
    {
     "data": {
      "text/plain": [
       "22050"
      ]
     },
     "execution_count": 14,
     "metadata": {},
     "output_type": "execute_result"
    }
   ],
   "source": [
    "len(df)"
   ]
  },
  {
   "cell_type": "code",
   "execution_count": 15,
   "id": "17fae36a",
   "metadata": {},
   "outputs": [],
   "source": [
    "df.drop_duplicates('id', inplace = True)"
   ]
  },
  {
   "cell_type": "code",
   "execution_count": 16,
   "id": "79cf60ab",
   "metadata": {},
   "outputs": [
    {
     "data": {
      "text/plain": [
       "21627"
      ]
     },
     "execution_count": 16,
     "metadata": {},
     "output_type": "execute_result"
    }
   ],
   "source": [
    "len(df)"
   ]
  },
  {
   "cell_type": "code",
   "execution_count": 17,
   "id": "060b2aad",
   "metadata": {},
   "outputs": [],
   "source": [
    "df.drop_duplicates('title', inplace = True)"
   ]
  },
  {
   "cell_type": "code",
   "execution_count": 18,
   "id": "87e8370a",
   "metadata": {},
   "outputs": [
    {
     "data": {
      "text/plain": [
       "21627"
      ]
     },
     "execution_count": 18,
     "metadata": {},
     "output_type": "execute_result"
    }
   ],
   "source": [
    "len(df)"
   ]
  },
  {
   "cell_type": "code",
   "execution_count": 19,
   "id": "f29abb1f",
   "metadata": {},
   "outputs": [],
   "source": [
    "df.to_csv('../data/movie_data7.csv', index = False)"
   ]
  },
  {
   "cell_type": "code",
   "execution_count": 20,
   "id": "cf956f52",
   "metadata": {},
   "outputs": [],
   "source": [
    "df2 = pd.read_csv('../data/movie_data7.csv')\n",
    "df2.head()"
   ]
  },
  {
   "cell_type": "code",
   "execution_count": null,
   "id": "83d74d5d",
   "metadata": {},
   "outputs": [],
   "source": []
  }
 ],
 "metadata": {
  "kernelspec": {
   "display_name": "Python 3 (ipykernel)",
   "language": "python",
   "name": "python3"
  },
  "language_info": {
   "codemirror_mode": {
    "name": "ipython",
    "version": 3
   },
   "file_extension": ".py",
   "mimetype": "text/x-python",
   "name": "python",
   "nbconvert_exporter": "python",
   "pygments_lexer": "ipython3",
   "version": "3.9.12"
  }
 },
 "nbformat": 4,
 "nbformat_minor": 5
}
